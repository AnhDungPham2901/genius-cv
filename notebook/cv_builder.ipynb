{
 "cells": [
  {
   "cell_type": "code",
   "execution_count": 2,
   "metadata": {},
   "outputs": [],
   "source": [
    "%load_ext autoreload\n",
    "%autoreload 2"
   ]
  },
  {
   "cell_type": "code",
   "execution_count": 3,
   "metadata": {},
   "outputs": [
    {
     "data": {
      "text/plain": [
       "True"
      ]
     },
     "execution_count": 3,
     "metadata": {},
     "output_type": "execute_result"
    }
   ],
   "source": [
    "# load .env file\n",
    "from dotenv import load_dotenv\n",
    "load_dotenv(override=True)"
   ]
  },
  {
   "cell_type": "code",
   "execution_count": 4,
   "metadata": {},
   "outputs": [],
   "source": [
    "import os\n",
    "import sys\n",
    "sys.path.append(os.path.abspath(os.path.join(os.getcwd(), '..')))"
   ]
  },
  {
   "cell_type": "code",
   "execution_count": 5,
   "metadata": {},
   "outputs": [],
   "source": [
    "# Import writer module\n",
    "from source import writer\n",
    "from source import utils"
   ]
  },
  {
   "cell_type": "code",
   "execution_count": 6,
   "metadata": {},
   "outputs": [],
   "source": [
    "career_story_path = os.path.join(os.getcwd(), '..', 'data', 'career_story.txt')\n",
    "career_story = utils.load_career_story(career_story_path)\n",
    "\n",
    "jd_path = os.path.join(os.getcwd(), '..', 'data', 'clio_jd.txt')\n",
    "jd = utils.load_job_description(jd_path)"
   ]
  },
  {
   "cell_type": "code",
   "execution_count": 7,
   "metadata": {},
   "outputs": [],
   "source": [
    "draft_cv = writer.generate_draft_cv(career_story=career_story, jd=jd, model='gpt-4o-mini')"
   ]
  },
  {
   "cell_type": "code",
   "execution_count": 8,
   "metadata": {},
   "outputs": [],
   "source": [
    "draft_cv_html = utils.extract_html_code_from_string(html_string=draft_cv)"
   ]
  },
  {
   "cell_type": "code",
   "execution_count": 10,
   "metadata": {},
   "outputs": [],
   "source": [
    "draft_cv_path = os.path.join(os.getcwd(), '..', 'output', 'draft_cv.html')"
   ]
  },
  {
   "cell_type": "code",
   "execution_count": 14,
   "metadata": {},
   "outputs": [
    {
     "name": "stderr",
     "output_type": "stream",
     "text": [
      "\u001b[32m2025-03-21 11:50:47.467\u001b[0m | \u001b[32m\u001b[1mSUCCESS \u001b[0m | \u001b[36msource.utils\u001b[0m:\u001b[36mstring_to_html_file\u001b[0m:\u001b[36m61\u001b[0m - \u001b[32m\u001b[1mHTML file created successfully at: /Users/phamanhdung/Documents/genius-cv/notebook/../output/draft_cv.html\u001b[0m\n"
     ]
    }
   ],
   "source": [
    "utils.string_to_html_file(html_content=draft_cv_html, output_filepath=draft_cv_path)"
   ]
  },
  {
   "cell_type": "code",
   "execution_count": null,
   "metadata": {},
   "outputs": [
    {
     "data": {
      "text/plain": [
       "'<div class=\"contact-section\">\\n  <h1>Pham Anh Dung</h1>\\n  <p>Email: dungpham290198@gmail.com</p>\\n  <p>Phone: +8438 4656 114</p>\\n  <p>Location: Ho Chi Minh, Vietnam</p>\\n  <p>LinkedIn: <a href=\"https://www.linkedin.com/in/dungpham290198/\">linkedin.com/in/dungpham290198</a></p>\\n  <p>GitHub: <a href=\"https://github.com/AnhDungPham2901\">github.com/AnhDungPham2901</a></p>\\n</div>\\n\\n<div class=\"summary-section\">\\n  <h2>Professional Summary</h2>\\n  <p>Innovative data scientist with over 5 years of experience in data analysis and machine learning, coupled with a strong foundation in product development and business collaboration. Proven ability to extract valuable insights, drive growth through data-driven decision-making, and communicate complex concepts effectively across technical and non-technical teams.</p>\\n</div>\\n\\n<div class=\"skills-section\">\\n  <h2>Skills</h2>\\n  <ul>\\n    <li>Data analysis and statistical modeling</li>\\n    <li>Proficiency in Python, SQL, and ML libraries (e.g., pandas, scikit-learn)</li>\\n    <li>Experience with building ML/AI pipelines and tools (e.g., Kedro, MLFlow)</li>\\n    <li>Understanding of SaaS business metrics and growth drivers</li>\\n    <li>Strong analytical and problem-solving skills</li>\\n    <li>Excellent communication and collaboration abilities</li>\\n  </ul>\\n</div>\\n\\n<div class=\"experience-section\">\\n  <h2>Experience</h2>\\n  \\n  <div class=\"job\">\\n    <h3>Data Analyst Intern - Prudential Vietnam</h3>\\n    <p class=\"date\">January 2020 - August 2020</p>\\n    <ul>\\n      <li>Developed SAS queries to support data extraction for agent management, enhancing project efficiency and accuracy.</li>\\n      <li>Reduced ad-hoc requests for data assistance by delivering precise data insights, contributing to improved team productivity.</li>\\n      <li>Collaborated with cross-functional teams to align data analysis with business requirements, ensuring relevant insights.</li>\\n    </ul>\\n  </div>\\n  \\n  <div class=\"job\">\\n    <h3>Co-Founder - Book Exchange Platform</h3>\\n    <p class=\"date\">January 2018 - December 2019</p>\\n    <ul>\\n      <li>Built and launched an online platform for used textbooks aimed at reducing costs for college students, refining product-market fit through iterative feedback.</li>\\n      <li>Formed partnerships with a senior technology manager to elevate platform capabilities and expand user engagement.</li>\\n      <li>Led a small team through the product development process, fostering a culture of learning and responsibility amidst operational challenges.</li>\\n    </ul>\\n  </div>\\n</div>\\n\\n<div class=\"education-section\">\\n  <h2>Education</h2>\\n  <h3>Master of Engineering in Computer Science</h3>\\n  <p>University of Technology Ho Chi Minh City - Graduated April 2023</p>\\n  \\n  <h3>Bachelor’s degree in Management Information System</h3>\\n  <p>University of Economics Ho Chi Minh City - Graduated December 2019</p>\\n</div>'"
      ]
     },
     "execution_count": 12,
     "metadata": {},
     "output_type": "execute_result"
    }
   ],
   "source": []
  },
  {
   "cell_type": "code",
   "execution_count": null,
   "metadata": {},
   "outputs": [],
   "source": []
  }
 ],
 "metadata": {
  "kernelspec": {
   "display_name": "genius-cv-d7XO7lo8-py3.11",
   "language": "python",
   "name": "python3"
  },
  "language_info": {
   "codemirror_mode": {
    "name": "ipython",
    "version": 3
   },
   "file_extension": ".py",
   "mimetype": "text/x-python",
   "name": "python",
   "nbconvert_exporter": "python",
   "pygments_lexer": "ipython3",
   "version": "3.11.7"
  }
 },
 "nbformat": 4,
 "nbformat_minor": 2
}
