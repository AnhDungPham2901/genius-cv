{
 "cells": [
  {
   "cell_type": "code",
   "execution_count": 16,
   "metadata": {},
   "outputs": [
    {
     "name": "stdout",
     "output_type": "stream",
     "text": [
      "The autoreload extension is already loaded. To reload it, use:\n",
      "  %reload_ext autoreload\n"
     ]
    }
   ],
   "source": [
    "%load_ext autoreload\n",
    "%autoreload 2"
   ]
  },
  {
   "cell_type": "code",
   "execution_count": 17,
   "metadata": {},
   "outputs": [
    {
     "data": {
      "text/plain": [
       "True"
      ]
     },
     "execution_count": 17,
     "metadata": {},
     "output_type": "execute_result"
    }
   ],
   "source": [
    "# load .env file\n",
    "from dotenv import load_dotenv\n",
    "load_dotenv(override=True)"
   ]
  },
  {
   "cell_type": "code",
   "execution_count": 18,
   "metadata": {},
   "outputs": [],
   "source": [
    "import os\n",
    "import sys\n",
    "sys.path.append(os.path.abspath(os.path.join(os.getcwd(), '..')))"
   ]
  },
  {
   "cell_type": "code",
   "execution_count": 22,
   "metadata": {},
   "outputs": [],
   "source": [
    "# Import writer module\n",
    "from source import writer\n",
    "from source import utils\n",
    "from source import evaluator"
   ]
  },
  {
   "cell_type": "code",
   "execution_count": 20,
   "metadata": {},
   "outputs": [],
   "source": [
    "career_story_path = os.path.join(os.getcwd(), '..', 'data', 'career_story.txt')\n",
    "career_story = utils.load_career_story(career_story_path)\n",
    "\n",
    "jd_path = os.path.join(os.getcwd(), '..', 'data', 'clio_jd.txt')\n",
    "jd = utils.load_job_description(jd_path)"
   ]
  },
  {
   "cell_type": "code",
   "execution_count": 43,
   "metadata": {},
   "outputs": [],
   "source": [
    "customized_criteria = evaluator.gen_customized_cv_criteria(jd=jd, model='o1')"
   ]
  },
  {
   "cell_type": "code",
   "execution_count": 45,
   "metadata": {},
   "outputs": [],
   "source": [
    "\n",
    "cv_v1 = writer.generate_cv(career_story=career_story, jd=jd, customized_criteria=customized_criteria, model='o1')"
   ]
  },
  {
   "cell_type": "code",
   "execution_count": 51,
   "metadata": {},
   "outputs": [],
   "source": [
    "missing_criteria = evaluator.check_missing_criteria(customized_cv_criteria=customized_criteria, cv_string=cv_v1, model='gpt-4o-mini')"
   ]
  },
  {
   "cell_type": "code",
   "execution_count": 54,
   "metadata": {},
   "outputs": [
    {
     "name": "stdout",
     "output_type": "stream",
     "text": [
      "CV SUCCESS CRITERIA\n",
      "\n",
      "[MUST-HAVE CRITERIA]\n",
      "1. Minimum 5+ Years in Data Science: Demonstrate at least five years of hands-on, applied data science experience (as specified in the JD). Include examples of building models, analyzing large datasets, and successfully delivering data solutions.  \n",
      "2. Product and User Behavior Analytics: Highlight experience with metrics related to product usage, retention, churn analysis, and other user behavior insights—explicitly reference projects involving data-driven product decisions.  \n",
      "3. Proficiency in Python, SQL, and ML Frameworks: Show advanced skill in Python-based data pipelines (pandas, PyTorch, scikit-learn). Emphasize SQL expertise, database modeling, and data warehousing principles.  \n",
      "4. End-to-End ML/AI Pipeline Deployment: Point out hands-on experience deploying machine learning or AI models to production, specifically mentioning tools like MLflow or Kedro if possible.  \n",
      "5. Strong Cross-Functional Collaboration & Communication: Provide clear examples of working closely with product managers, developers, and business stakeholders, as the JD underscores collaboration across Clio’s product and business teams.  \n",
      "6. Ability to Translate Business Challenges Into Data Solutions: Cite projects where you translated strategic or growth-focused needs into predictive/prescriptive models—mirroring Clio’s requirement for bridging business objectives with data insights.  \n",
      "\n",
      "[STAND-OUT FACTORS]\n",
      "1. SaaS Business Metrics Expertise: Demonstrate a deep understanding of SaaS growth drivers—churn, retention, lifetime value—particularly relevant to Clio’s data-driven product environment. Illustrate how your insights influenced real growth outcomes.  \n",
      "2. GenAI, LLM, or NLP Projects: Showcase specialized experience developing NLP or LLM-based solutions, tying it to Clio’s goal of building cutting-edge AI/GenAI capabilities for legal professionals.  \n",
      "3. FinTech or Large-Scale Data Experience: Highlight any FinTech background or experience handling substantial user behavior datasets, indicating your readiness to tackle Clio’s ambitious data challenges.  \n",
      "4. Graduate Degree in Quantitative Field: If applicable, emphasize an advanced degree (e.g., in statistics, computer science, mathematics), as this can set your CV apart given the JD’s mention of a “serious bonus point.”  \n",
      "\n",
      "Tips to Demonstrate Stand-Out Factors:  \n",
      "• Cite metrics, such as improved model accuracy or percentage increase in product engagement, from your specialized projects.  \n",
      "• Provide brief but concrete descriptions of your role in designing, implementing, and iterating these advanced AI solutions or big-data architectures.  \n",
      "\n",
      "[TAILORING STRATEGY]\n",
      "1. Emphasize Clio’s Mission and Values: Incorporate references to “transforming the legal experience,” “increasing access to justice,” and “bettering the lives of legal professionals” to align with Clio’s overarching mission.  \n",
      "2. Showcase a “Scientific Culture” Mindset: Highlight how you’ve fostered data-driven decision-making in prior roles—describe leading discussions with data, establishing best practices, and demonstrating thought leadership.  \n",
      "3. Illustrate Rapid-Growth Environment Readiness: Recount examples of delivering insights quickly in dynamic settings. Emphasize agility, experimentation, and iterative processes to match the “rapid-growth, high-velocity” culture.  \n",
      "4. Reflect Collaboration Across Departments: Structure your CV with sections or bullets explaining cross-functional projects, including how you partnered with product managers, developers, and business leaders as Clio emphasizes team integration.  \n",
      "\n",
      "[KEYWORD OPTIMIZATION]\n",
      "Embed the following essential keywords/phrases throughout your CV, particularly in your Experience, Skills, and Summary sections:\n",
      "\n",
      "1. “Data Science”  \n",
      "2. “Machine Learning”  \n",
      "3. “Artificial Intelligence” or “AI”  \n",
      "4. “GenAI” or “Generative AI”  \n",
      "5. “LLMs” (Large Language Models)  \n",
      "6. “NLP” (Natural Language Processing)  \n",
      "7. “Product Analytics”  \n",
      "8. “Churn Analysis” or “Retention Analysis”  \n",
      "9. “Python”  \n",
      "10. “SQL”  \n",
      "11. “PyTorch”  \n",
      "12. “scikit-learn”  \n",
      "13. “MLflow” (or “Kedro” if relevant)  \n",
      "14. “SaaS Business Metrics”  \n",
      "15. “Statistical Analysis”  \n",
      "\n",
      "Placement Recommendations:\n",
      "• Skills Section: Ensure you list key technical tools/frameworks (e.g., Python, MLflow, PyTorch) prominently.  \n",
      "• Experience Section: Weave in product, user behavior, churn, or retention analysis keywords when describing your contributions.  \n",
      "• Summary/Profile Statement: Incorporate “data-driven decisions,” “growth,” “rapid iteration,” and “transforming the legal experience.”  \n",
      "\n",
      "Following these tailored criteria will ensure your CV is aligned with Clio’s Sr. Data Scientist position, showcases your relevant accomplishments, and leverages the right keywords to stand out.\n"
     ]
    }
   ],
   "source": [
    "print(customized_criteria)"
   ]
  },
  {
   "cell_type": "code",
   "execution_count": 53,
   "metadata": {},
   "outputs": [
    {
     "name": "stdout",
     "output_type": "stream",
     "text": [
      "{\n",
      "  \"missing_criteria\": [\n",
      "    \"Criterion 1 is not met because while the CV states 5+ years of experience, it lacks specific examples of building models or analyzing large datasets that successfully delivered data solutions.\",\n",
      "    \"Criterion 2 is not fully met; although the CV mentions churn analysis and product growth, it lacks clear references to specific projects that involved data-driven product decisions shaped by user behavior insights.\",\n",
      "    \"Criterion 4 is not fully satisfied; while the CV mentions deploying Machine Learning models, there is no explicit reference to using tools like MLflow or Kedro for deployment.\",\n",
      "    \"Criterion 6 is not met because the CV does not provide specific examples of projects where strategic or growth-focused needs were translated into predictive or prescriptive models.\"\n",
      "  ]\n",
      "}\n"
     ]
    }
   ],
   "source": [
    "print(missing_criteria)"
   ]
  },
  {
   "cell_type": "code",
   "execution_count": null,
   "metadata": {},
   "outputs": [],
   "source": [
    "cv_v2 = evaluator.check_truthfulness(cv_string=cv_v1, real_info=career_story, model='gpt-4o-mini')"
   ]
  },
  {
   "cell_type": "code",
   "execution_count": 39,
   "metadata": {},
   "outputs": [],
   "source": [
    "cv_path = os.path.join(os.getcwd(), '..', 'output', 'cv.html')"
   ]
  },
  {
   "cell_type": "code",
   "execution_count": 40,
   "metadata": {},
   "outputs": [
    {
     "name": "stderr",
     "output_type": "stream",
     "text": [
      "\u001b[32m2025-03-21 16:52:14.326\u001b[0m | \u001b[32m\u001b[1mSUCCESS \u001b[0m | \u001b[36msource.utils\u001b[0m:\u001b[36mstring_to_html_file\u001b[0m:\u001b[36m12\u001b[0m - \u001b[32m\u001b[1mHTML file created successfully at: /Users/phamanhdung/Documents/genius-cv/notebook/../output/cv.html\u001b[0m\n"
     ]
    }
   ],
   "source": [
    "utils.string_to_html_file(html_string=truthful_cv, output_filepath=cv_path)"
   ]
  },
  {
   "cell_type": "code",
   "execution_count": 41,
   "metadata": {},
   "outputs": [
    {
     "name": "stderr",
     "output_type": "stream",
     "text": [
      "\u001b[32m2025-03-21 16:55:44.569\u001b[0m | \u001b[32m\u001b[1mSUCCESS \u001b[0m | \u001b[36msource.utils\u001b[0m:\u001b[36mstring_to_html_file\u001b[0m:\u001b[36m12\u001b[0m - \u001b[32m\u001b[1mHTML file created successfully at: /Users/phamanhdung/Documents/genius-cv/notebook/../output/draft_cv.html\u001b[0m\n"
     ]
    }
   ],
   "source": [
    "cv_path = os.path.join(os.getcwd(), '..', 'output', 'draft_cv.html')\n",
    "utils.string_to_html_file(html_string=draft_cv, output_filepath=cv_path)"
   ]
  },
  {
   "cell_type": "code",
   "execution_count": null,
   "metadata": {},
   "outputs": [],
   "source": []
  }
 ],
 "metadata": {
  "kernelspec": {
   "display_name": "genius-cv-d7XO7lo8-py3.11",
   "language": "python",
   "name": "python3"
  },
  "language_info": {
   "codemirror_mode": {
    "name": "ipython",
    "version": 3
   },
   "file_extension": ".py",
   "mimetype": "text/x-python",
   "name": "python",
   "nbconvert_exporter": "python",
   "pygments_lexer": "ipython3",
   "version": "3.11.7"
  }
 },
 "nbformat": 4,
 "nbformat_minor": 2
}
