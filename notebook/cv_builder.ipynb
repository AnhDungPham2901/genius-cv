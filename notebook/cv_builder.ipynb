{
 "cells": [
  {
   "cell_type": "markdown",
   "metadata": {},
   "source": [
    "# Import Packages"
   ]
  },
  {
   "cell_type": "code",
   "execution_count": 89,
   "metadata": {},
   "outputs": [
    {
     "name": "stdout",
     "output_type": "stream",
     "text": [
      "The autoreload extension is already loaded. To reload it, use:\n",
      "  %reload_ext autoreload\n"
     ]
    }
   ],
   "source": [
    "%load_ext autoreload\n",
    "%autoreload 2"
   ]
  },
  {
   "cell_type": "code",
   "execution_count": 90,
   "metadata": {},
   "outputs": [
    {
     "data": {
      "text/plain": [
       "True"
      ]
     },
     "execution_count": 90,
     "metadata": {},
     "output_type": "execute_result"
    }
   ],
   "source": [
    "# load .env file\n",
    "from dotenv import load_dotenv\n",
    "load_dotenv(override=True)"
   ]
  },
  {
   "cell_type": "code",
   "execution_count": 91,
   "metadata": {},
   "outputs": [],
   "source": [
    "import os\n",
    "import json\n",
    "import sys\n",
    "from loguru import logger\n",
    "sys.path.append(os.path.abspath(os.path.join(os.getcwd(), '..')))"
   ]
  },
  {
   "cell_type": "code",
   "execution_count": 92,
   "metadata": {},
   "outputs": [],
   "source": [
    "# Import writer module\n",
    "from source import writer\n",
    "from source import utils\n",
    "from source import evaluator"
   ]
  },
  {
   "cell_type": "code",
   "execution_count": 94,
   "metadata": {},
   "outputs": [],
   "source": [
    "career_story_path = os.path.join(os.getcwd(), '..', 'data', 'career_story.txt')\n",
    "career_story = utils.load_career_story(career_story_path)\n",
    "\n",
    "jd_path = os.path.join(os.getcwd(), '..', 'data', 'clio_jd.txt')\n",
    "jd = utils.load_job_description(jd_path)"
   ]
  },
  {
   "cell_type": "markdown",
   "metadata": {},
   "source": [
    "# Generate CV V1"
   ]
  },
  {
   "cell_type": "code",
   "execution_count": 95,
   "metadata": {},
   "outputs": [],
   "source": [
    "customized_criteria = evaluator.gen_customized_cv_criteria(jd=jd, model='o1')"
   ]
  },
  {
   "cell_type": "code",
   "execution_count": 96,
   "metadata": {},
   "outputs": [],
   "source": [
    "\n",
    "cv_v1 = writer.generate_cv(career_story=career_story, jd=jd, customized_criteria=customized_criteria, model='o1')"
   ]
  },
  {
   "cell_type": "code",
   "execution_count": 97,
   "metadata": {},
   "outputs": [
    {
     "name": "stderr",
     "output_type": "stream",
     "text": [
      "\u001b[32m2025-03-22 15:52:10.768\u001b[0m | \u001b[32m\u001b[1mSUCCESS \u001b[0m | \u001b[36msource.utils\u001b[0m:\u001b[36mstring_to_html_file\u001b[0m:\u001b[36m12\u001b[0m - \u001b[32m\u001b[1mHTML file created successfully at: /Users/phamanhdung/Documents/genius-cv/notebook/../output/cv_v1.html\u001b[0m\n"
     ]
    }
   ],
   "source": [
    "cv_v1_path = os.path.join(os.getcwd(), '..', 'output', 'cv_v1.html')\n",
    "utils.string_to_html_file(html_string=cv_v1, output_filepath=cv_v1_path)"
   ]
  },
  {
   "cell_type": "markdown",
   "metadata": {},
   "source": [
    "# Improve to CV V2"
   ]
  },
  {
   "cell_type": "markdown",
   "metadata": {},
   "source": [
    "by looping n times to improve missing points compared to the customized criteria"
   ]
  },
  {
   "cell_type": "code",
   "execution_count": 98,
   "metadata": {},
   "outputs": [],
   "source": [
    "def fullfill_missing_customized_criteria(cv: str) -> str:\n",
    "    missing_criteria = evaluator.check_missing_criteria(customized_cv_criteria=customized_criteria, cv_string=cv, model='gpt-4o-mini')\n",
    "    missing_criteria = json.loads(missing_criteria)['missing_criteria']\n",
    "    if missing_criteria is None:\n",
    "        logger.info('All criteria are met')\n",
    "        return cv\n",
    "    else:\n",
    "        cv_v2 = cv\n",
    "        for i in range(3):\n",
    "            logger.info(f'Improve round {i+1}')\n",
    "            cv_v2 = writer.rewrite_cv(cv=cv_v2, career_story=career_story, improvement_points=missing_criteria, model='gpt-4o')\n",
    "            missing_criteria = evaluator.check_missing_criteria(customized_cv_criteria=customized_criteria, cv_string=cv_v2, model='gpt-4o-mini')\n",
    "            if missing_criteria is None:\n",
    "                logger.info('All criteria are met')\n",
    "                break\n",
    "        return cv_v2, missing_criteria"
   ]
  },
  {
   "cell_type": "code",
   "execution_count": 99,
   "metadata": {},
   "outputs": [
    {
     "name": "stderr",
     "output_type": "stream",
     "text": [
      "\u001b[32m2025-03-22 15:52:14.266\u001b[0m | \u001b[1mINFO    \u001b[0m | \u001b[36m__main__\u001b[0m:\u001b[36mfullfill_missing_customized_criteria\u001b[0m:\u001b[36m10\u001b[0m - \u001b[1mImprove round 1\u001b[0m\n",
      "\u001b[32m2025-03-22 15:52:31.411\u001b[0m | \u001b[1mINFO    \u001b[0m | \u001b[36m__main__\u001b[0m:\u001b[36mfullfill_missing_customized_criteria\u001b[0m:\u001b[36m10\u001b[0m - \u001b[1mImprove round 2\u001b[0m\n",
      "\u001b[32m2025-03-22 15:52:52.044\u001b[0m | \u001b[1mINFO    \u001b[0m | \u001b[36m__main__\u001b[0m:\u001b[36mfullfill_missing_customized_criteria\u001b[0m:\u001b[36m10\u001b[0m - \u001b[1mImprove round 3\u001b[0m\n",
      "\u001b[32m2025-03-22 15:53:11.320\u001b[0m | \u001b[33m\u001b[1mWARNING \u001b[0m | \u001b[36m__main__\u001b[0m:\u001b[36m<module>\u001b[0m:\u001b[36m2\u001b[0m - \u001b[33m\u001b[1mStill missing criteria: {\n",
      "  \"missing_criteria\": [\n",
      "    \"Criterion about clarifying the scope of experience in data science is not met because while the CV states '5+ years applied experience in Data Science', it does not detail specific projects, industries, or business impacts associated with this experience.\",\n",
      "    \"Criterion about demonstrable experience in analytics for product & user behavior is not met because although the CV mentions retention analysis and churn prediction, it does not clearly spell out how these analyses were performed or the direct outcomes they influenced.\",\n",
      "    \"Criterion about proven ability to translate business requirements into data science solutions is not met because while the CV discusses technical solutions, it lacks clear examples of how these solutions directly impacted decisions and strategy at the organizational level.\",\n",
      "    \"Criterion about team collaboration skills and autonomous work ethic is partially met, but could be enhanced by providing more detailed examples of cross-functional projects and specific outcomes achieved through collaboration.\"\n",
      "  ]\n",
      "}\u001b[0m\n"
     ]
    }
   ],
   "source": [
    "cv_v2, missing_criteria = fullfill_missing_customized_criteria(cv=cv_v1)\n",
    "logger.warning(f'Still missing criteria: {missing_criteria}')"
   ]
  },
  {
   "cell_type": "code",
   "execution_count": 100,
   "metadata": {},
   "outputs": [
    {
     "name": "stderr",
     "output_type": "stream",
     "text": [
      "\u001b[32m2025-03-22 15:53:15.750\u001b[0m | \u001b[32m\u001b[1mSUCCESS \u001b[0m | \u001b[36msource.utils\u001b[0m:\u001b[36mstring_to_html_file\u001b[0m:\u001b[36m12\u001b[0m - \u001b[32m\u001b[1mHTML file created successfully at: /Users/phamanhdung/Documents/genius-cv/notebook/../output/cv_v2.html\u001b[0m\n"
     ]
    }
   ],
   "source": [
    "cv_v2_path = os.path.join(os.getcwd(), '..', 'output', 'cv_v2.html')\n",
    "utils.string_to_html_file(html_string=cv_v2, output_filepath=cv_v2_path)"
   ]
  },
  {
   "cell_type": "markdown",
   "metadata": {},
   "source": [
    "# Improve CV V3 "
   ]
  },
  {
   "cell_type": "markdown",
   "metadata": {},
   "source": [
    "Spelling by country"
   ]
  },
  {
   "cell_type": "code",
   "execution_count": 87,
   "metadata": {},
   "outputs": [
    {
     "name": "stderr",
     "output_type": "stream",
     "text": [
      "\u001b[32m2025-03-22 15:10:05.360\u001b[0m | \u001b[33m\u001b[1mWARNING \u001b[0m | \u001b[36m__main__\u001b[0m:\u001b[36m<module>\u001b[0m:\u001b[36m2\u001b[0m - \u001b[33m\u001b[1mSpelling improvement: ```json\n",
      "{\n",
      "  \"spelling_errors\": [\n",
      "    \"Word 'program' should be 'programme' in Canadian English\",\n",
      "    \"Word 'behavior' should be 'behaviour' in Canadian English\",\n",
      "    \"Word 'modeling' should be 'modelling' in Canadian English\",\n",
      "    \"Word 'catalog' should be 'catalogue' in Canadian English\",\n",
      "    \"Word 'analyze' should be 'analyse' in Canadian English\",\n",
      "    \"Word 'utilize' should be 'utilise' in Canadian English\",\n",
      "    \"Word 'focused' should be 'focussed' in Canadian English\"\n",
      "  ]\n",
      "}\n",
      "```\u001b[0m\n"
     ]
    }
   ],
   "source": [
    "spelling_improvement = evaluator.check_country_spelling(cv=cv_v2, country=\"Canada\", model='gpt-4o')\n",
    "logger.warning(f'Spelling improvement: {spelling_improvement}')\n",
    "cv_v3 = writer.rewrite_cv(cv=cv_v2, career_story=career_story, improvement_points=spelling_improvement, model='gpt-4o')"
   ]
  },
  {
   "cell_type": "code",
   "execution_count": 88,
   "metadata": {},
   "outputs": [
    {
     "name": "stderr",
     "output_type": "stream",
     "text": [
      "\u001b[32m2025-03-22 15:10:26.206\u001b[0m | \u001b[32m\u001b[1mSUCCESS \u001b[0m | \u001b[36msource.utils\u001b[0m:\u001b[36mstring_to_html_file\u001b[0m:\u001b[36m12\u001b[0m - \u001b[32m\u001b[1mHTML file created successfully at: /Users/phamanhdung/Documents/genius-cv/notebook/../output/cv_v3.html\u001b[0m\n"
     ]
    }
   ],
   "source": [
    "cv_v3_path = os.path.join(os.getcwd(), '..', 'output', 'cv_v3.html')\n",
    "utils.string_to_html_file(html_string=cv_v3, output_filepath=cv_v3_path)"
   ]
  },
  {
   "cell_type": "code",
   "execution_count": null,
   "metadata": {},
   "outputs": [],
   "source": []
  }
 ],
 "metadata": {
  "kernelspec": {
   "display_name": "genius-cv-d7XO7lo8-py3.11",
   "language": "python",
   "name": "python3"
  },
  "language_info": {
   "codemirror_mode": {
    "name": "ipython",
    "version": 3
   },
   "file_extension": ".py",
   "mimetype": "text/x-python",
   "name": "python",
   "nbconvert_exporter": "python",
   "pygments_lexer": "ipython3",
   "version": "3.11.7"
  }
 },
 "nbformat": 4,
 "nbformat_minor": 2
}
