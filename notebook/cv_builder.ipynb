{
 "cells": [
  {
   "cell_type": "code",
   "execution_count": 3,
   "metadata": {},
   "outputs": [
    {
     "data": {
      "text/plain": [
       "True"
      ]
     },
     "execution_count": 3,
     "metadata": {},
     "output_type": "execute_result"
    }
   ],
   "source": [
    "# load .env file\n",
    "from dotenv import load_dotenv\n",
    "load_dotenv(override=True)"
   ]
  },
  {
   "cell_type": "code",
   "execution_count": 4,
   "metadata": {},
   "outputs": [],
   "source": [
    "from google import genai\n",
    "from pydantic import BaseModel, Field\n",
    "\n",
    "client = genai.Client()\n",
    "\n",
    "class ArticleSummarySchema(BaseModel):\n",
    "    title: str = Field(..., title=\"Title of the news article rewritten to include required words\")\n",
    "    summary: str = Field(..., title=\"Summary of the news article rewritten to include required words\")\n",
    "\n",
    "def generate_detail_summary(text: str, required_words: str) -> ArticleSummarySchema:\n",
    "    response = client.models.generate_content( \n",
    "        model='gemini-2.0-flash', \n",
    "        contents=f'''Given total news article deliminated in tripple backticks. \n",
    "                        Generate a title of the topic and short summary of the following news article. \n",
    "                        The title and summary must include the following words: {required_words}.\n",
    "                        You can skip to include the words in the title and summary if it makes the meaning incorrect.\n",
    "                        You must write in very simple words at A1 level. The summary must be around 100 words.\n",
    "                        And the summary must keep the exact meaning of the original article.\n",
    "                        ``` TEXT TO SUMMARIZE HERE\n",
    "                            {text}\n",
    "                        ```''', \n",
    "        config={ \n",
    "            'response_mime_type': 'application/json',\n",
    "            'response_schema': ArticleSummarySchema, \n",
    "            'temperature': 0.8,\n",
    "        }, \n",
    "    )\n",
    "\n",
    "    return response.parsed"
   ]
  },
  {
   "cell_type": "code",
   "execution_count": null,
   "metadata": {},
   "outputs": [],
   "source": []
  }
 ],
 "metadata": {
  "kernelspec": {
   "display_name": "genius-cv-d7XO7lo8-py3.11",
   "language": "python",
   "name": "python3"
  },
  "language_info": {
   "codemirror_mode": {
    "name": "ipython",
    "version": 3
   },
   "file_extension": ".py",
   "mimetype": "text/x-python",
   "name": "python",
   "nbconvert_exporter": "python",
   "pygments_lexer": "ipython3",
   "version": "3.11.7"
  }
 },
 "nbformat": 4,
 "nbformat_minor": 2
}
